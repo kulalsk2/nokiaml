{
 "cells": [
  {
   "cell_type": "code",
   "execution_count": 1,
   "id": "6fc596bd",
   "metadata": {},
   "outputs": [],
   "source": [
    "%config Completer.use_jedi = False"
   ]
  },
  {
   "cell_type": "code",
   "execution_count": 2,
   "id": "0498923b",
   "metadata": {},
   "outputs": [
    {
     "name": "stderr",
     "output_type": "stream",
     "text": [
      "E:\\Anaconda\\envs\\tf\\lib\\importlib\\_bootstrap.py:219: RuntimeWarning: numpy.ufunc size changed, may indicate binary incompatibility. Expected 192 from C header, got 216 from PyObject\n",
      "  return f(*args, **kwds)\n"
     ]
    }
   ],
   "source": [
    "import pandas as pd\n",
    "import numpy as np\n",
    "import matplotlib.pyplot as plt\n",
    "import seaborn as sns\n",
    "import tensorflow as tf\n",
    "import sklearn \n"
   ]
  },
  {
   "cell_type": "code",
   "execution_count": 17,
   "id": "4bc49c18",
   "metadata": {},
   "outputs": [
    {
     "name": "stderr",
     "output_type": "stream",
     "text": [
      "E:\\Anaconda\\envs\\tf\\lib\\site-packages\\ipykernel_launcher.py:1: FutureWarning: Your version of xlrd is 1.2.0. In xlrd >= 2.0, only the xls format is supported. As a result, the openpyxl engine will be used if it is installed and the engine argument is not specified. Install openpyxl instead.\n",
      "  \"\"\"Entry point for launching an IPython kernel.\n"
     ]
    }
   ],
   "source": [
    "df=pd.read_excel('Train.xlsx')"
   ]
  },
  {
   "cell_type": "code",
   "execution_count": 18,
   "id": "23685466",
   "metadata": {},
   "outputs": [
    {
     "data": {
      "text/html": [
       "<div>\n",
       "<style scoped>\n",
       "    .dataframe tbody tr th:only-of-type {\n",
       "        vertical-align: middle;\n",
       "    }\n",
       "\n",
       "    .dataframe tbody tr th {\n",
       "        vertical-align: top;\n",
       "    }\n",
       "\n",
       "    .dataframe thead th {\n",
       "        text-align: right;\n",
       "    }\n",
       "</style>\n",
       "<table border=\"1\" class=\"dataframe\">\n",
       "  <thead>\n",
       "    <tr style=\"text-align: right;\">\n",
       "      <th></th>\n",
       "      <th>Date</th>\n",
       "      <th>Cloud coverage</th>\n",
       "      <th>Visibility</th>\n",
       "      <th>Temperature</th>\n",
       "      <th>Dew point</th>\n",
       "      <th>Relative humidity</th>\n",
       "      <th>Wind speed</th>\n",
       "      <th>Station pressure</th>\n",
       "      <th>Altimeter</th>\n",
       "      <th>Solar energy</th>\n",
       "      <th>(Inverters)</th>\n",
       "    </tr>\n",
       "  </thead>\n",
       "  <tbody>\n",
       "    <tr>\n",
       "      <th>0</th>\n",
       "      <td>2016-02-01</td>\n",
       "      <td>0.10</td>\n",
       "      <td>9.45</td>\n",
       "      <td>3.11</td>\n",
       "      <td>0.32</td>\n",
       "      <td>79.46</td>\n",
       "      <td>4.70</td>\n",
       "      <td>29.23</td>\n",
       "      <td>30.02</td>\n",
       "      <td>20256</td>\n",
       "      <td>NaN</td>\n",
       "    </tr>\n",
       "    <tr>\n",
       "      <th>1</th>\n",
       "      <td>2016-02-02</td>\n",
       "      <td>0.80</td>\n",
       "      <td>3.94</td>\n",
       "      <td>6.99</td>\n",
       "      <td>6.22</td>\n",
       "      <td>93.60</td>\n",
       "      <td>13.29</td>\n",
       "      <td>28.91</td>\n",
       "      <td>29.70</td>\n",
       "      <td>1761</td>\n",
       "      <td>NaN</td>\n",
       "    </tr>\n",
       "    <tr>\n",
       "      <th>2</th>\n",
       "      <td>2016-02-03</td>\n",
       "      <td>0.87</td>\n",
       "      <td>8.70</td>\n",
       "      <td>1.62</td>\n",
       "      <td>0.02</td>\n",
       "      <td>85.00</td>\n",
       "      <td>16.73</td>\n",
       "      <td>29.03</td>\n",
       "      <td>29.82</td>\n",
       "      <td>2775</td>\n",
       "      <td>NaN</td>\n",
       "    </tr>\n",
       "    <tr>\n",
       "      <th>3</th>\n",
       "      <td>2016-02-04</td>\n",
       "      <td>0.37</td>\n",
       "      <td>10.00</td>\n",
       "      <td>-2.47</td>\n",
       "      <td>-5.89</td>\n",
       "      <td>74.52</td>\n",
       "      <td>9.46</td>\n",
       "      <td>29.46</td>\n",
       "      <td>30.26</td>\n",
       "      <td>28695</td>\n",
       "      <td>NaN</td>\n",
       "    </tr>\n",
       "    <tr>\n",
       "      <th>4</th>\n",
       "      <td>2016-02-05</td>\n",
       "      <td>0.52</td>\n",
       "      <td>9.21</td>\n",
       "      <td>-2.00</td>\n",
       "      <td>-4.15</td>\n",
       "      <td>82.03</td>\n",
       "      <td>5.92</td>\n",
       "      <td>29.55</td>\n",
       "      <td>30.35</td>\n",
       "      <td>9517</td>\n",
       "      <td>NaN</td>\n",
       "    </tr>\n",
       "    <tr>\n",
       "      <th>...</th>\n",
       "      <td>...</td>\n",
       "      <td>...</td>\n",
       "      <td>...</td>\n",
       "      <td>...</td>\n",
       "      <td>...</td>\n",
       "      <td>...</td>\n",
       "      <td>...</td>\n",
       "      <td>...</td>\n",
       "      <td>...</td>\n",
       "      <td>...</td>\n",
       "      <td>...</td>\n",
       "    </tr>\n",
       "    <tr>\n",
       "      <th>632</th>\n",
       "      <td>2017-10-25</td>\n",
       "      <td>0.23</td>\n",
       "      <td>10.00</td>\n",
       "      <td>5.87</td>\n",
       "      <td>2.89</td>\n",
       "      <td>82.33</td>\n",
       "      <td>5.56</td>\n",
       "      <td>29.04</td>\n",
       "      <td>29.83</td>\n",
       "      <td>13737</td>\n",
       "      <td>NaN</td>\n",
       "    </tr>\n",
       "    <tr>\n",
       "      <th>633</th>\n",
       "      <td>2017-10-26</td>\n",
       "      <td>0.01</td>\n",
       "      <td>10.00</td>\n",
       "      <td>10.59</td>\n",
       "      <td>5.32</td>\n",
       "      <td>72.74</td>\n",
       "      <td>9.61</td>\n",
       "      <td>28.97</td>\n",
       "      <td>29.76</td>\n",
       "      <td>27465</td>\n",
       "      <td>NaN</td>\n",
       "    </tr>\n",
       "    <tr>\n",
       "      <th>634</th>\n",
       "      <td>2017-10-27</td>\n",
       "      <td>0.89</td>\n",
       "      <td>10.00</td>\n",
       "      <td>5.79</td>\n",
       "      <td>0.04</td>\n",
       "      <td>67.37</td>\n",
       "      <td>13.62</td>\n",
       "      <td>29.08</td>\n",
       "      <td>29.87</td>\n",
       "      <td>15797</td>\n",
       "      <td>NaN</td>\n",
       "    </tr>\n",
       "    <tr>\n",
       "      <th>635</th>\n",
       "      <td>2017-10-28</td>\n",
       "      <td>0.99</td>\n",
       "      <td>9.67</td>\n",
       "      <td>3.43</td>\n",
       "      <td>-0.11</td>\n",
       "      <td>77.87</td>\n",
       "      <td>9.67</td>\n",
       "      <td>29.15</td>\n",
       "      <td>29.94</td>\n",
       "      <td>6400</td>\n",
       "      <td>NaN</td>\n",
       "    </tr>\n",
       "    <tr>\n",
       "      <th>636</th>\n",
       "      <td>2017-10-29</td>\n",
       "      <td>0.58</td>\n",
       "      <td>10.00</td>\n",
       "      <td>4.96</td>\n",
       "      <td>-0.90</td>\n",
       "      <td>67.58</td>\n",
       "      <td>5.53</td>\n",
       "      <td>29.07</td>\n",
       "      <td>29.86</td>\n",
       "      <td>8537</td>\n",
       "      <td>NaN</td>\n",
       "    </tr>\n",
       "  </tbody>\n",
       "</table>\n",
       "<p>637 rows × 11 columns</p>\n",
       "</div>"
      ],
      "text/plain": [
       "          Date  Cloud coverage  Visibility  Temperature  Dew point  \\\n",
       "0   2016-02-01            0.10        9.45         3.11       0.32   \n",
       "1   2016-02-02            0.80        3.94         6.99       6.22   \n",
       "2   2016-02-03            0.87        8.70         1.62       0.02   \n",
       "3   2016-02-04            0.37       10.00        -2.47      -5.89   \n",
       "4   2016-02-05            0.52        9.21        -2.00      -4.15   \n",
       "..         ...             ...         ...          ...        ...   \n",
       "632 2017-10-25            0.23       10.00         5.87       2.89   \n",
       "633 2017-10-26            0.01       10.00        10.59       5.32   \n",
       "634 2017-10-27            0.89       10.00         5.79       0.04   \n",
       "635 2017-10-28            0.99        9.67         3.43      -0.11   \n",
       "636 2017-10-29            0.58       10.00         4.96      -0.90   \n",
       "\n",
       "     Relative humidity  Wind speed  Station pressure  Altimeter  Solar energy  \\\n",
       "0                79.46        4.70             29.23      30.02         20256   \n",
       "1                93.60       13.29             28.91      29.70          1761   \n",
       "2                85.00       16.73             29.03      29.82          2775   \n",
       "3                74.52        9.46             29.46      30.26         28695   \n",
       "4                82.03        5.92             29.55      30.35          9517   \n",
       "..                 ...         ...               ...        ...           ...   \n",
       "632              82.33        5.56             29.04      29.83         13737   \n",
       "633              72.74        9.61             28.97      29.76         27465   \n",
       "634              67.37       13.62             29.08      29.87         15797   \n",
       "635              77.87        9.67             29.15      29.94          6400   \n",
       "636              67.58        5.53             29.07      29.86          8537   \n",
       "\n",
       "     (Inverters)  \n",
       "0            NaN  \n",
       "1            NaN  \n",
       "2            NaN  \n",
       "3            NaN  \n",
       "4            NaN  \n",
       "..           ...  \n",
       "632          NaN  \n",
       "633          NaN  \n",
       "634          NaN  \n",
       "635          NaN  \n",
       "636          NaN  \n",
       "\n",
       "[637 rows x 11 columns]"
      ]
     },
     "execution_count": 18,
     "metadata": {},
     "output_type": "execute_result"
    }
   ],
   "source": [
    "df"
   ]
  },
  {
   "cell_type": "code",
   "execution_count": 21,
   "id": "375bdaa8",
   "metadata": {},
   "outputs": [],
   "source": [
    "se=df.reset_index()['Solar energy']"
   ]
  },
  {
   "cell_type": "code",
   "execution_count": 22,
   "id": "b4a2173e",
   "metadata": {},
   "outputs": [
    {
     "data": {
      "text/plain": [
       "0      20256\n",
       "1       1761\n",
       "2       2775\n",
       "3      28695\n",
       "4       9517\n",
       "       ...  \n",
       "632    13737\n",
       "633    27465\n",
       "634    15797\n",
       "635     6400\n",
       "636     8537\n",
       "Name: Solar energy, Length: 637, dtype: int64"
      ]
     },
     "execution_count": 22,
     "metadata": {},
     "output_type": "execute_result"
    }
   ],
   "source": [
    "se"
   ]
  },
  {
   "cell_type": "code",
   "execution_count": 23,
   "id": "7d98130f",
   "metadata": {},
   "outputs": [
    {
     "data": {
      "text/plain": [
       "24367    2\n",
       "28642    2\n",
       "33236    2\n",
       "37546    1\n",
       "27296    1\n",
       "        ..\n",
       "32084    1\n",
       "21845    1\n",
       "30038    1\n",
       "36183    1\n",
       "15359    1\n",
       "Name: Solar energy, Length: 634, dtype: int64"
      ]
     },
     "execution_count": 23,
     "metadata": {},
     "output_type": "execute_result"
    }
   ],
   "source": [
    "se.value_counts()"
   ]
  },
  {
   "cell_type": "code",
   "execution_count": 24,
   "id": "b3063197",
   "metadata": {},
   "outputs": [
    {
     "data": {
      "text/plain": [
       "[<matplotlib.lines.Line2D at 0x1deab78c688>]"
      ]
     },
     "execution_count": 24,
     "metadata": {},
     "output_type": "execute_result"
    },
    {
     "data": {
      "image/png": "[encoded data removed]",
      "text/plain": [
       "<Figure size 432x288 with 1 Axes>"
      ]
     },
     "metadata": {
      "needs_background": "light"
     },
     "output_type": "display_data"
    }
   ],
   "source": [
    "plt.plot(se)"
   ]
  },
  {
   "cell_type": "code",
   "execution_count": 25,
   "id": "9f0c8aed",
   "metadata": {},
   "outputs": [],
   "source": [
    "from sklearn.preprocessing import MinMaxScaler\n",
    "scaler=MinMaxScaler(feature_range=(0,1))"
   ]
  },
  {
   "cell_type": "code",
   "execution_count": 26,
   "id": "6ca4c053",
   "metadata": {},
   "outputs": [],
   "source": [
    "se=scaler.fit_transform(np.array(se).reshape(-1,1))"
   ]
  },
  {
   "cell_type": "code",
   "execution_count": 27,
   "id": "da241cff",
   "metadata": {},
   "outputs": [
    {
     "data": {
      "text/plain": [
       "array([[0.49605446],\n",
       "       [0.02977436],\n",
       "       [0.05533846],\n",
       "       [0.70881129],\n",
       "       [0.22531199],\n",
       "       [0.66539771],\n",
       "       [0.54922476],\n",
       "       [0.1113072 ],\n",
       "       [0.15280474],\n",
       "       [0.50871045],\n",
       "       [0.76465398],\n",
       "       [0.18971385],\n",
       "       [0.75073743],\n",
       "       [0.13195512],\n",
       "       [0.17622589],\n",
       "       [0.66852389],\n",
       "       [0.1762511 ],\n",
       "       [0.46804488],\n",
       "       [0.50117232],\n",
       "       [0.75129207],\n",
       "       [0.6703643 ],\n",
       "       [0.65740577],\n",
       "       [0.64232951],\n",
       "       [0.0223875 ],\n",
       "       [0.3542922 ],\n",
       "       [0.41053826],\n",
       "       [0.80650447],\n",
       "       [0.6380184 ],\n",
       "       [0.78880625],\n",
       "       [0.08738182],\n",
       "       [0.76548594],\n",
       "       [0.05889323],\n",
       "       [0.74854406],\n",
       "       [0.2289676 ],\n",
       "       [0.70697088],\n",
       "       [0.20231943],\n",
       "       [0.5701248 ],\n",
       "       [0.17599899],\n",
       "       [0.13775369],\n",
       "       [0.64558175],\n",
       "       [0.19599143],\n",
       "       [0.15918316],\n",
       "       [0.16866255],\n",
       "       [0.73503088],\n",
       "       [0.8232951 ],\n",
       "       [0.79286525],\n",
       "       [0.64288415],\n",
       "       [0.32628262],\n",
       "       [0.55709063],\n",
       "       [0.8590445 ],\n",
       "       [0.73505609],\n",
       "       [0.45717887],\n",
       "       [0.23095928],\n",
       "       [0.68627253],\n",
       "       [0.90596244],\n",
       "       [0.46822135],\n",
       "       [0.64359007],\n",
       "       [0.91914786],\n",
       "       [0.14335056],\n",
       "       [0.4608597 ],\n",
       "       [0.46819614],\n",
       "       [0.77304929],\n",
       "       [0.93195512],\n",
       "       [0.56304046],\n",
       "       [0.89537376],\n",
       "       [0.07132232],\n",
       "       [0.47956637],\n",
       "       [0.32093785],\n",
       "       [0.97902433],\n",
       "       [0.08027228],\n",
       "       [0.53903946],\n",
       "       [0.96805748],\n",
       "       [0.78918442],\n",
       "       [0.64147233],\n",
       "       [0.7800832 ],\n",
       "       [0.81084079],\n",
       "       [0.94279592],\n",
       "       [0.85561578],\n",
       "       [0.47152401],\n",
       "       [0.35426699],\n",
       "       [0.44419513],\n",
       "       [0.86010337],\n",
       "       [0.76324215],\n",
       "       [0.87356612],\n",
       "       [0.70379428],\n",
       "       [0.27979327],\n",
       "       [0.15847725],\n",
       "       [0.3595109 ],\n",
       "       [0.43458969],\n",
       "       [0.06653221],\n",
       "       [0.37153662],\n",
       "       [0.29459221],\n",
       "       [0.67354091],\n",
       "       [0.55953611],\n",
       "       [0.55802345],\n",
       "       [0.80753813],\n",
       "       [0.47192739],\n",
       "       [0.31975293],\n",
       "       [0.22856423],\n",
       "       [0.36687256],\n",
       "       [0.54330014],\n",
       "       [0.2635825 ],\n",
       "       [0.7945796 ],\n",
       "       [0.54781293],\n",
       "       [0.95620824],\n",
       "       [0.63627884],\n",
       "       [0.31118114],\n",
       "       [0.71095424],\n",
       "       [0.92214799],\n",
       "       [0.29628136],\n",
       "       [0.85637212],\n",
       "       [0.86411194],\n",
       "       [0.8678684 ],\n",
       "       [0.8232951 ],\n",
       "       [0.7074751 ],\n",
       "       [0.48034791],\n",
       "       [0.49333165],\n",
       "       [0.54357746],\n",
       "       [0.78888189],\n",
       "       [0.70404639],\n",
       "       [0.50412202],\n",
       "       [0.45311988],\n",
       "       [0.80884911],\n",
       "       [0.69844951],\n",
       "       [0.19394933],\n",
       "       [0.69665952],\n",
       "       [0.92461868],\n",
       "       [0.88052439],\n",
       "       [0.91869406],\n",
       "       [0.72008068],\n",
       "       [0.8441195 ],\n",
       "       [0.80458843],\n",
       "       [0.80010084],\n",
       "       [0.82548847],\n",
       "       [0.68929787],\n",
       "       [0.80494138],\n",
       "       [0.9210387 ],\n",
       "       [0.90876087],\n",
       "       [0.89605446],\n",
       "       [0.78429346],\n",
       "       [0.80307576],\n",
       "       [0.92623219],\n",
       "       [0.41031136],\n",
       "       [0.85501071],\n",
       "       [0.70916425],\n",
       "       [0.86915417],\n",
       "       [0.58542796],\n",
       "       [0.87921341],\n",
       "       [0.73361906],\n",
       "       [0.95464515],\n",
       "       [0.74418253],\n",
       "       [0.84336317],\n",
       "       [0.29214673],\n",
       "       [0.12139166],\n",
       "       [0.2986512 ],\n",
       "       [0.72771965],\n",
       "       [0.46570024],\n",
       "       [0.61147107],\n",
       "       [0.83932938],\n",
       "       [0.85324593],\n",
       "       [0.91612253],\n",
       "       [0.79957141],\n",
       "       [0.66839783],\n",
       "       [0.48239002],\n",
       "       [0.80436153],\n",
       "       [0.90923988],\n",
       "       [0.88803731],\n",
       "       [0.55467036],\n",
       "       [0.53150132],\n",
       "       [0.61084079],\n",
       "       [0.77640237],\n",
       "       [0.61961427],\n",
       "       [0.71415606],\n",
       "       [0.71259297],\n",
       "       [0.73404765],\n",
       "       [0.51251733],\n",
       "       [0.66292701],\n",
       "       [0.76936846],\n",
       "       [0.54541787],\n",
       "       [0.67323837],\n",
       "       [0.71874449],\n",
       "       [0.60052943],\n",
       "       [0.64381697],\n",
       "       [0.60673138],\n",
       "       [0.71690407],\n",
       "       [0.66378419],\n",
       "       [0.57690659],\n",
       "       [0.71970251],\n",
       "       [0.74957771],\n",
       "       [0.69113828],\n",
       "       [0.71027354],\n",
       "       [0.75585529],\n",
       "       [0.7328123 ],\n",
       "       [0.518089  ],\n",
       "       [0.41578218],\n",
       "       [0.31317282],\n",
       "       [0.08803731],\n",
       "       [0.54609858],\n",
       "       [0.61752174],\n",
       "       [0.67558301],\n",
       "       [0.53263583],\n",
       "       [0.49103744],\n",
       "       [0.84835497],\n",
       "       [0.8617673 ],\n",
       "       [0.72603051],\n",
       "       [0.4533972 ],\n",
       "       [0.75875457],\n",
       "       [0.58628514],\n",
       "       [0.64459851],\n",
       "       [0.64462372],\n",
       "       [0.75048531],\n",
       "       [0.54067818],\n",
       "       [0.50739947],\n",
       "       [0.7796294 ],\n",
       "       [0.8156057 ],\n",
       "       [0.74655238],\n",
       "       [0.73830833],\n",
       "       [0.6667339 ],\n",
       "       [0.64946426],\n",
       "       [0.61689147],\n",
       "       [0.20312618],\n",
       "       [0.19584016],\n",
       "       [0.58550359],\n",
       "       [0.84089247],\n",
       "       [0.8334804 ],\n",
       "       [0.65427959],\n",
       "       [0.51667717],\n",
       "       [0.5640237 ],\n",
       "       [0.26887684],\n",
       "       [0.64427077],\n",
       "       [0.74945166],\n",
       "       [0.81994201],\n",
       "       [0.68375142],\n",
       "       [0.69517207],\n",
       "       [0.67676793],\n",
       "       [0.7074751 ],\n",
       "       [0.64540527],\n",
       "       [0.52358502],\n",
       "       [0.77267112],\n",
       "       [0.82962309],\n",
       "       [0.41411824],\n",
       "       [0.43872432],\n",
       "       [0.16593975],\n",
       "       [0.39087357],\n",
       "       [0.37683096],\n",
       "       [0.4036304 ],\n",
       "       [0.77857053],\n",
       "       [0.55620824],\n",
       "       [0.43095928],\n",
       "       [0.55895626],\n",
       "       [0.80186562],\n",
       "       [0.74093029],\n",
       "       [0.64873314],\n",
       "       [0.56757847],\n",
       "       [0.23509391],\n",
       "       [0.80620194],\n",
       "       [0.7156183 ],\n",
       "       [0.27061641],\n",
       "       [0.13699735],\n",
       "       [0.64119501],\n",
       "       [0.2185554 ],\n",
       "       [0.18857935],\n",
       "       [0.15830077],\n",
       "       [0.48707929],\n",
       "       [0.71463507],\n",
       "       [0.68970125],\n",
       "       [0.63249716],\n",
       "       [0.27628892],\n",
       "       [0.14579604],\n",
       "       [0.08849111],\n",
       "       [0.53722425],\n",
       "       [0.49239884],\n",
       "       [0.40547082],\n",
       "       [0.44043867],\n",
       "       [0.47026346],\n",
       "       [0.25922098],\n",
       "       [0.3705786 ],\n",
       "       [0.66396067],\n",
       "       [0.50661793],\n",
       "       [0.61858061],\n",
       "       [0.53611496],\n",
       "       [0.04880877],\n",
       "       [0.59969747],\n",
       "       [0.63678306],\n",
       "       [0.36906593],\n",
       "       [0.61842935],\n",
       "       [0.6276062 ],\n",
       "       [0.49907979],\n",
       "       [0.55585529],\n",
       "       [0.54607336],\n",
       "       [0.42112694],\n",
       "       [0.15767049],\n",
       "       [0.18230178],\n",
       "       [0.59969747],\n",
       "       [0.56760368],\n",
       "       [0.38182277],\n",
       "       [0.01129459],\n",
       "       [0.02795916],\n",
       "       [0.10341611],\n",
       "       [0.37725955],\n",
       "       [0.09023068],\n",
       "       [0.00479012],\n",
       "       [0.39526031],\n",
       "       [0.31458465],\n",
       "       [0.09950838],\n",
       "       [0.09653347],\n",
       "       [0.20960545],\n",
       "       [0.01933695],\n",
       "       [0.04606076],\n",
       "       [0.09285264],\n",
       "       [0.3219463 ],\n",
       "       [0.13248456],\n",
       "       [0.1812177 ],\n",
       "       [0.14493886],\n",
       "       [0.01225262],\n",
       "       [0.31264339],\n",
       "       [0.00342872],\n",
       "       [0.01598386],\n",
       "       [0.3879995 ],\n",
       "       [0.05501071],\n",
       "       [0.02707677],\n",
       "       [0.37259549],\n",
       "       [0.40509265],\n",
       "       [0.02576579],\n",
       "       [0.33568637],\n",
       "       [0.33873692],\n",
       "       [0.34178747],\n",
       "       [0.34483802],\n",
       "       [0.34788857],\n",
       "       [0.35093912],\n",
       "       [0.35401487],\n",
       "       [0.35784697],\n",
       "       [0.41520232],\n",
       "       [0.40267238],\n",
       "       [0.36621707],\n",
       "       [0.47573427],\n",
       "       [0.05082566],\n",
       "       [0.02453044],\n",
       "       [0.45934703],\n",
       "       [0.01348796],\n",
       "       [0.06902811],\n",
       "       [0.19526031],\n",
       "       [0.37042733],\n",
       "       [0.20763898],\n",
       "       [0.01484936],\n",
       "       [0.05770831],\n",
       "       [0.06275054],\n",
       "       [0.25465776],\n",
       "       [0.04964074],\n",
       "       [0.13147611],\n",
       "       [0.05594353],\n",
       "       [0.05072482],\n",
       "       [0.17430984],\n",
       "       [0.06421278],\n",
       "       [0.08085214],\n",
       "       [0.511761  ],\n",
       "       [0.33782932],\n",
       "       [0.0470692 ],\n",
       "       [0.07888567],\n",
       "       [0.12267742],\n",
       "       [0.06960797],\n",
       "       [0.04263204],\n",
       "       [0.23978318],\n",
       "       [0.04520358],\n",
       "       [0.39039455],\n",
       "       [0.26622967],\n",
       "       [0.33117358],\n",
       "       [0.6051935 ],\n",
       "       [0.62047145],\n",
       "       [0.39483172],\n",
       "       [0.68014622],\n",
       "       [0.09686121],\n",
       "       [0.14630026],\n",
       "       [0.03317786],\n",
       "       [0.03007689],\n",
       "       [0.28039834],\n",
       "       [0.51224001],\n",
       "       [0.70802975],\n",
       "       [0.62223623],\n",
       "       [0.6312114 ],\n",
       "       [0.77957897],\n",
       "       [0.51972772],\n",
       "       [0.74103114],\n",
       "       [0.55204841],\n",
       "       [0.50790369],\n",
       "       [0.52204714],\n",
       "       [0.1237615 ],\n",
       "       [0.53435018],\n",
       "       [0.21840413],\n",
       "       [0.32502206],\n",
       "       [0.5803101 ],\n",
       "       [0.58005799],\n",
       "       [0.57700744],\n",
       "       [0.0714988 ],\n",
       "       [0.12635825],\n",
       "       [0.66738939],\n",
       "       [0.85715366],\n",
       "       [0.82591706],\n",
       "       [0.45218707],\n",
       "       [0.05291819],\n",
       "       [0.77531829],\n",
       "       [0.86373377],\n",
       "       [0.69900416],\n",
       "       [0.86307828],\n",
       "       [0.63058112],\n",
       "       [0.77320055],\n",
       "       [0.        ],\n",
       "       [0.05952351],\n",
       "       [0.56051935],\n",
       "       [0.88720534],\n",
       "       [0.14032522],\n",
       "       [0.19059624],\n",
       "       [0.88932308],\n",
       "       [0.53129963],\n",
       "       [0.48130594],\n",
       "       [0.93533342],\n",
       "       [0.29358376],\n",
       "       [0.76818354],\n",
       "       [0.19097441],\n",
       "       [0.32880373],\n",
       "       [0.30432371],\n",
       "       [0.61800076],\n",
       "       [0.30843313],\n",
       "       [0.16228413],\n",
       "       [0.12658515],\n",
       "       [0.85190974],\n",
       "       [0.69895374],\n",
       "       [0.20547082],\n",
       "       [0.31801336],\n",
       "       [0.20794151],\n",
       "       [0.63693432],\n",
       "       [0.97357872],\n",
       "       [0.92416488],\n",
       "       [0.68092777],\n",
       "       [0.27190218],\n",
       "       [0.51834111],\n",
       "       [0.90898777],\n",
       "       [0.60236985],\n",
       "       [0.64391781],\n",
       "       [0.8174209 ],\n",
       "       [0.28508761],\n",
       "       [0.08647422],\n",
       "       [0.70893735],\n",
       "       [0.01757217],\n",
       "       [0.20005042],\n",
       "       [0.54188831],\n",
       "       [0.76820875],\n",
       "       [0.97753687],\n",
       "       [0.95762007],\n",
       "       [0.87452414],\n",
       "       [0.57506618],\n",
       "       [0.27344006],\n",
       "       [0.1445607 ],\n",
       "       [0.09849994],\n",
       "       [0.16389764],\n",
       "       [0.34151015],\n",
       "       [0.71932434],\n",
       "       [0.26073364],\n",
       "       [0.11597126],\n",
       "       [0.9895878 ],\n",
       "       [0.7687886 ],\n",
       "       [0.99599143],\n",
       "       [0.65508635],\n",
       "       [0.80761377],\n",
       "       [0.71029875],\n",
       "       [0.01568133],\n",
       "       [0.34985504],\n",
       "       [0.96117484],\n",
       "       [0.96046893],\n",
       "       [0.9380058 ],\n",
       "       [0.92071095],\n",
       "       [0.67233077],\n",
       "       [0.75756965],\n",
       "       [0.34748519],\n",
       "       [0.5113072 ],\n",
       "       [0.64515316],\n",
       "       [0.96293962],\n",
       "       [0.39440313],\n",
       "       [0.19523509],\n",
       "       [0.48904576],\n",
       "       [0.55232573],\n",
       "       [0.57796546],\n",
       "       [0.67202824],\n",
       "       [0.85369974],\n",
       "       [0.86963318],\n",
       "       [1.        ],\n",
       "       [0.9642506 ],\n",
       "       [0.95772091],\n",
       "       [0.85006933],\n",
       "       [0.7950334 ],\n",
       "       [0.94103114],\n",
       "       [0.99858818],\n",
       "       [0.99838649],\n",
       "       [0.96972142],\n",
       "       [0.84928779],\n",
       "       [0.96442708],\n",
       "       [0.94710702],\n",
       "       [0.86862473],\n",
       "       [0.7490987 ],\n",
       "       [0.73772848],\n",
       "       [0.77294844],\n",
       "       [0.51420648],\n",
       "       [0.24424556],\n",
       "       [0.25624606],\n",
       "       [0.30707173],\n",
       "       [0.27901172],\n",
       "       [0.22304298],\n",
       "       [0.19031892],\n",
       "       [0.16362032],\n",
       "       [0.30631539],\n",
       "       [0.31150889],\n",
       "       [0.23567377],\n",
       "       [0.32471953],\n",
       "       [0.2513551 ],\n",
       "       [0.23673264],\n",
       "       [0.16422539],\n",
       "       [0.29083575],\n",
       "       [0.3074751 ],\n",
       "       [0.29466784],\n",
       "       [0.25886802],\n",
       "       [0.19760494],\n",
       "       [0.24898525],\n",
       "       [0.24195134],\n",
       "       [0.89976049],\n",
       "       [0.80892474],\n",
       "       [0.52847599],\n",
       "       [0.34612379],\n",
       "       [0.73626623],\n",
       "       [0.47165007],\n",
       "       [0.95799824],\n",
       "       [0.75177108],\n",
       "       [0.77680575],\n",
       "       [0.90278583],\n",
       "       [0.9205849 ],\n",
       "       [0.80100845],\n",
       "       [0.63673264],\n",
       "       [0.78207488],\n",
       "       [0.54355225],\n",
       "       [0.73535863],\n",
       "       [0.64749779],\n",
       "       [0.9128955 ],\n",
       "       [0.7160721 ],\n",
       "       [0.35691416],\n",
       "       [0.63960671],\n",
       "       [0.93432497],\n",
       "       [0.87810412],\n",
       "       [0.82468171],\n",
       "       [0.53568637],\n",
       "       [0.72139166],\n",
       "       [0.67770074],\n",
       "       [0.56331779],\n",
       "       [0.71927392],\n",
       "       [0.25274171],\n",
       "       [0.52948443],\n",
       "       [0.89759234],\n",
       "       [0.87321316],\n",
       "       [0.77824278],\n",
       "       [0.68228917],\n",
       "       [0.88039834],\n",
       "       [0.83595109],\n",
       "       [0.73341737],\n",
       "       [0.77620068],\n",
       "       [0.26043111],\n",
       "       [0.63252237],\n",
       "       [0.80481533],\n",
       "       [0.64031262],\n",
       "       [0.3975041 ],\n",
       "       [0.47235598],\n",
       "       [0.56780537],\n",
       "       [0.83645531],\n",
       "       [0.79425186],\n",
       "       [0.7968234 ],\n",
       "       [0.79304172],\n",
       "       [0.72257658],\n",
       "       [0.61520232],\n",
       "       [0.69882768],\n",
       "       [0.73851002],\n",
       "       [0.57264591],\n",
       "       [0.76619186],\n",
       "       [0.9115341 ],\n",
       "       [0.79810916],\n",
       "       [0.61434514],\n",
       "       [0.84192613],\n",
       "       [0.67439808],\n",
       "       [0.73142569],\n",
       "       [0.82248834],\n",
       "       [0.84653977],\n",
       "       [0.87273415],\n",
       "       [0.72840035],\n",
       "       [0.56967099],\n",
       "       [0.22526157],\n",
       "       [0.62160595],\n",
       "       [0.75666204],\n",
       "       [0.65485945],\n",
       "       [0.582806  ],\n",
       "       [0.52598008],\n",
       "       [0.39314257],\n",
       "       [0.68075129],\n",
       "       [0.61555528],\n",
       "       [0.56253624],\n",
       "       [0.69590319],\n",
       "       [0.72066053],\n",
       "       [0.61341233],\n",
       "       [0.6502206 ],\n",
       "       [0.53949326],\n",
       "       [0.80282365],\n",
       "       [0.78673894],\n",
       "       [0.81681583],\n",
       "       [0.74125804],\n",
       "       [0.58789865],\n",
       "       [0.23998487],\n",
       "       [0.17234338],\n",
       "       [0.17536871],\n",
       "       [0.11745872],\n",
       "       [0.47855792],\n",
       "       [0.67739821],\n",
       "       [0.56588932],\n",
       "       [0.28002017],\n",
       "       [0.07167528],\n",
       "       [0.17085592],\n",
       "       [0.68475986],\n",
       "       [0.52582882],\n",
       "       [0.21757217],\n",
       "       [0.74942645],\n",
       "       [0.74266986],\n",
       "       [0.73135006],\n",
       "       [0.66842304],\n",
       "       [0.63262322],\n",
       "       [0.35330896],\n",
       "       [0.11758477],\n",
       "       [0.06580108],\n",
       "       [0.12219841],\n",
       "       [0.33170301],\n",
       "       [0.67780159],\n",
       "       [0.38363797],\n",
       "       [0.14672885],\n",
       "       [0.20060507]])"
      ]
     },
     "execution_count": 27,
     "metadata": {},
     "output_type": "execute_result"
    }
   ],
   "source": [
    "se"
   ]
  },
  {
   "cell_type": "code",
   "execution_count": 28,
   "id": "589f51a2",
   "metadata": {},
   "outputs": [
    {
     "data": {
      "text/plain": [
       "(637, 1)"
      ]
     },
     "execution_count": 28,
     "metadata": {},
     "output_type": "execute_result"
    }
   ],
   "source": [
    "se.shape"
   ]
  },
  {
   "cell_type": "code",
   "execution_count": 29,
   "id": "6ac7668a",
   "metadata": {},
   "outputs": [],
   "source": [
    "trs=int(len(se)*0.75)\n",
    "ts=len(se)-trs"
   ]
  },
  {
   "cell_type": "code",
   "execution_count": 30,
   "id": "19bb73c2",
   "metadata": {},
   "outputs": [
    {
     "data": {
      "text/plain": [
       "(477, 160)"
      ]
     },
     "execution_count": 30,
     "metadata": {},
     "output_type": "execute_result"
    }
   ],
   "source": [
    "trs,ts"
   ]
  },
  {
   "cell_type": "code",
   "execution_count": 38,
   "id": "2ed051fe",
   "metadata": {},
   "outputs": [],
   "source": [
    "train=se[0:trs]\n",
    "test=se[trs:]"
   ]
  },
  {
   "cell_type": "code",
   "execution_count": 39,
   "id": "ca92d747",
   "metadata": {},
   "outputs": [
    {
     "data": {
      "text/plain": [
       "(477, 1)"
      ]
     },
     "execution_count": 39,
     "metadata": {},
     "output_type": "execute_result"
    }
   ],
   "source": [
    "train.shape"
   ]
  },
  {
   "cell_type": "code",
   "execution_count": 40,
   "id": "164bd114",
   "metadata": {},
   "outputs": [
    {
     "data": {
      "text/plain": [
       "(160, 1)"
      ]
     },
     "execution_count": 40,
     "metadata": {},
     "output_type": "execute_result"
    }
   ],
   "source": [
    "test.shape"
   ]
  },
  {
   "cell_type": "code",
   "execution_count": 43,
   "id": "ff61a91c",
   "metadata": {},
   "outputs": [],
   "source": [
    "import numpy\n",
    "\n",
    "def create_dataset(dataset, time_step=1):\n",
    "\tdataX, dataY = [], []\n",
    "\tfor i in range(len(dataset)-time_step-1):\n",
    "\t\ta = dataset[i:(i+time_step), 0]  \n",
    "\t\tdataX.append(a)\n",
    "\t\tdataY.append(dataset[i + time_step, 0])\n",
    "\treturn numpy.array(dataX), numpy.array(dataY)"
   ]
  },
  {
   "cell_type": "code",
   "execution_count": 44,
   "id": "68c471d5",
   "metadata": {},
   "outputs": [],
   "source": [
    "X_train,Y_train=create_dataset(train,9)"
   ]
  },
  {
   "cell_type": "code",
   "execution_count": 46,
   "id": "8f03af78",
   "metadata": {},
   "outputs": [
    {
     "data": {
      "text/plain": [
       "array([0.49605446, 0.02977436, 0.05533846, 0.70881129, 0.22531199,\n",
       "       0.66539771, 0.54922476, 0.1113072 , 0.15280474])"
      ]
     },
     "execution_count": 46,
     "metadata": {},
     "output_type": "execute_result"
    }
   ],
   "source": [
    "X_train[0]"
   ]
  },
  {
   "cell_type": "code",
   "execution_count": 47,
   "id": "c1028016",
   "metadata": {},
   "outputs": [
    {
     "data": {
      "text/plain": [
       "0.5087104500189084"
      ]
     },
     "execution_count": 47,
     "metadata": {},
     "output_type": "execute_result"
    }
   ],
   "source": [
    "Y_train[0]"
   ]
  },
  {
   "cell_type": "code",
   "execution_count": 48,
   "id": "8409662c",
   "metadata": {},
   "outputs": [],
   "source": [
    "X_test,Y_test=create_dataset(test,9)"
   ]
  },
  {
   "cell_type": "code",
   "execution_count": 49,
   "id": "bc6b2132",
   "metadata": {},
   "outputs": [
    {
     "data": {
      "text/plain": [
       "(150, 9)"
      ]
     },
     "execution_count": 49,
     "metadata": {},
     "output_type": "execute_result"
    }
   ],
   "source": [
    "X_test.shape"
   ]
  },
  {
   "cell_type": "code",
   "execution_count": 50,
   "id": "b4a33c8f",
   "metadata": {},
   "outputs": [
    {
     "data": {
      "text/plain": [
       "(467, 9)"
      ]
     },
     "execution_count": 50,
     "metadata": {},
     "output_type": "execute_result"
    }
   ],
   "source": [
    "X_train.shape"
   ]
  },
  {
   "cell_type": "code",
   "execution_count": 51,
   "id": "5bf77284",
   "metadata": {},
   "outputs": [
    {
     "data": {
      "text/plain": [
       "(150,)"
      ]
     },
     "execution_count": 51,
     "metadata": {},
     "output_type": "execute_result"
    }
   ],
   "source": [
    "Y_test.shape"
   ]
  },
  {
   "cell_type": "code",
   "execution_count": 53,
   "id": "d075b22d",
   "metadata": {},
   "outputs": [
    {
     "data": {
      "text/plain": [
       "(467,)"
      ]
     },
     "execution_count": 53,
     "metadata": {},
     "output_type": "execute_result"
    }
   ],
   "source": [
    "Y_train.shape"
   ]
  },
  {
   "cell_type": "markdown",
   "id": "5ba1cba3",
   "metadata": {},
   "source": [
    "# Adding extra column which is required for LSTM"
   ]
  },
  {
   "cell_type": "code",
   "execution_count": 54,
   "id": "b3152753",
   "metadata": {},
   "outputs": [],
   "source": [
    "X_train =X_train.reshape(X_train.shape[0],X_train.shape[1] , 1)\n",
    "X_test = X_test.reshape(X_test.shape[0],X_test.shape[1] , 1)"
   ]
  },
  {
   "cell_type": "code",
   "execution_count": 56,
   "id": "2d0d5a60",
   "metadata": {},
   "outputs": [
    {
     "data": {
      "text/plain": [
       "(467, 9, 1)"
      ]
     },
     "execution_count": 56,
     "metadata": {},
     "output_type": "execute_result"
    }
   ],
   "source": [
    "X_train.shape"
   ]
  },
  {
   "cell_type": "code",
   "execution_count": 57,
   "id": "2fad5323",
   "metadata": {},
   "outputs": [
    {
     "data": {
      "text/plain": [
       "(150, 9, 1)"
      ]
     },
     "execution_count": 57,
     "metadata": {},
     "output_type": "execute_result"
    }
   ],
   "source": [
    "X_test.shape"
   ]
  },
  {
   "cell_type": "markdown",
   "id": "889de15f",
   "metadata": {},
   "source": [
    "# Model Definition"
   ]
  },
  {
   "cell_type": "code",
   "execution_count": 62,
   "id": "0d419ab3",
   "metadata": {},
   "outputs": [],
   "source": [
    "from tensorflow.keras.layers import Dense,LSTM\n",
    "from tensorflow.keras.models import Sequential"
   ]
  },
  {
   "cell_type": "code",
   "execution_count": 64,
   "id": "c53cb90f",
   "metadata": {},
   "outputs": [],
   "source": [
    "\n",
    "model=Sequential()\n",
    "model.add(LSTM(50,return_sequences=True,input_shape=(9,1)))\n",
    "model.add(LSTM(50,return_sequences=True))\n",
    "model.add(LSTM(50))\n",
    "model.add(Dense(1))\n",
    "model.compile(loss='mean_squared_error',optimizer='adam')"
   ]
  },
  {
   "cell_type": "code",
   "execution_count": 65,
   "id": "6b07b078",
   "metadata": {},
   "outputs": [
    {
     "name": "stdout",
     "output_type": "stream",
     "text": [
      "Model: \"sequential\"\n",
      "_________________________________________________________________\n",
      "Layer (type)                 Output Shape              Param #   \n",
      "=================================================================\n",
      "lstm (LSTM)                  (None, 9, 50)             10400     \n",
      "_________________________________________________________________\n",
      "lstm_1 (LSTM)                (None, 9, 50)             20200     \n",
      "_________________________________________________________________\n",
      "lstm_2 (LSTM)                (None, 50)                20200     \n",
      "_________________________________________________________________\n",
      "dense (Dense)                (None, 1)                 51        \n",
      "=================================================================\n",
      "Total params: 50,851\n",
      "Trainable params: 50,851\n",
      "Non-trainable params: 0\n",
      "_________________________________________________________________\n"
     ]
    }
   ],
   "source": [
    "model.summary()"
   ]
  },
  {
   "cell_type": "code",
   "execution_count": 66,
   "id": "0cd519a2",
   "metadata": {},
   "outputs": [
    {
     "name": "stdout",
     "output_type": "stream",
     "text": [
      "Train on 467 samples, validate on 150 samples\n",
      "Epoch 1/100\n",
      "467/467 [==============================] - 7s 16ms/sample - loss: 0.1727 - val_loss: 0.0735\n",
      "Epoch 2/100\n",
      "467/467 [==============================] - 0s 365us/sample - loss: 0.0688 - val_loss: 0.0594\n",
      "Epoch 3/100\n",
      "467/467 [==============================] - 0s 347us/sample - loss: 0.0637 - val_loss: 0.0535\n",
      "Epoch 4/100\n",
      "467/467 [==============================] - 0s 335us/sample - loss: 0.0633 - val_loss: 0.0516\n",
      "Epoch 5/100\n",
      "467/467 [==============================] - 0s 375us/sample - loss: 0.0629 - val_loss: 0.0520\n",
      "Epoch 6/100\n",
      "467/467 [==============================] - 0s 298us/sample - loss: 0.0620 - val_loss: 0.0514\n",
      "Epoch 7/100\n",
      "467/467 [==============================] - 0s 310us/sample - loss: 0.0625 - val_loss: 0.0514\n",
      "Epoch 8/100\n",
      "467/467 [==============================] - 0s 315us/sample - loss: 0.0635 - val_loss: 0.0516\n",
      "Epoch 9/100\n",
      "467/467 [==============================] - 0s 343us/sample - loss: 0.0628 - val_loss: 0.0532\n",
      "Epoch 10/100\n",
      "467/467 [==============================] - 0s 334us/sample - loss: 0.0620 - val_loss: 0.0510\n",
      "Epoch 11/100\n",
      "467/467 [==============================] - 0s 334us/sample - loss: 0.0618 - val_loss: 0.0528\n",
      "Epoch 12/100\n",
      "467/467 [==============================] - 0s 332us/sample - loss: 0.0622 - val_loss: 0.0512\n",
      "Epoch 13/100\n",
      "467/467 [==============================] - 0s 358us/sample - loss: 0.0618 - val_loss: 0.0507\n",
      "Epoch 14/100\n",
      "467/467 [==============================] - 0s 360us/sample - loss: 0.0620 - val_loss: 0.0508\n",
      "Epoch 15/100\n",
      "467/467 [==============================] - 0s 321us/sample - loss: 0.0615 - val_loss: 0.0505\n",
      "Epoch 16/100\n",
      "467/467 [==============================] - 0s 319us/sample - loss: 0.0615 - val_loss: 0.0504\n",
      "Epoch 17/100\n",
      "467/467 [==============================] - 0s 336us/sample - loss: 0.0619 - val_loss: 0.0509\n",
      "Epoch 18/100\n",
      "467/467 [==============================] - 0s 340us/sample - loss: 0.0619 - val_loss: 0.0525\n",
      "Epoch 19/100\n",
      "467/467 [==============================] - 0s 340us/sample - loss: 0.0622 - val_loss: 0.0503\n",
      "Epoch 20/100\n",
      "467/467 [==============================] - 0s 355us/sample - loss: 0.0622 - val_loss: 0.0511\n",
      "Epoch 21/100\n",
      "467/467 [==============================] - 0s 355us/sample - loss: 0.0622 - val_loss: 0.0501\n",
      "Epoch 22/100\n",
      "467/467 [==============================] - 0s 319us/sample - loss: 0.0613 - val_loss: 0.0521\n",
      "Epoch 23/100\n",
      "467/467 [==============================] - 0s 296us/sample - loss: 0.0628 - val_loss: 0.0518\n",
      "Epoch 24/100\n",
      "467/467 [==============================] - 0s 313us/sample - loss: 0.0626 - val_loss: 0.0594\n",
      "Epoch 25/100\n",
      "467/467 [==============================] - 0s 298us/sample - loss: 0.0645 - val_loss: 0.0506\n",
      "Epoch 26/100\n",
      "467/467 [==============================] - 0s 334us/sample - loss: 0.0632 - val_loss: 0.0522\n",
      "Epoch 27/100\n",
      "467/467 [==============================] - 0s 328us/sample - loss: 0.0620 - val_loss: 0.0501\n",
      "Epoch 28/100\n",
      "467/467 [==============================] - 0s 375us/sample - loss: 0.0611 - val_loss: 0.0489\n",
      "Epoch 29/100\n",
      "467/467 [==============================] - 0s 313us/sample - loss: 0.0610 - val_loss: 0.0489\n",
      "Epoch 30/100\n",
      "467/467 [==============================] - 0s 302us/sample - loss: 0.0612 - val_loss: 0.0492\n",
      "Epoch 31/100\n",
      "467/467 [==============================] - 0s 298us/sample - loss: 0.0616 - val_loss: 0.0505\n",
      "Epoch 32/100\n",
      "467/467 [==============================] - 0s 304us/sample - loss: 0.0622 - val_loss: 0.0650\n",
      "Epoch 33/100\n",
      "467/467 [==============================] - 0s 302us/sample - loss: 0.0643 - val_loss: 0.0505\n",
      "Epoch 34/100\n",
      "467/467 [==============================] - 0s 350us/sample - loss: 0.0614 - val_loss: 0.0479\n",
      "Epoch 35/100\n",
      "467/467 [==============================] - 0s 358us/sample - loss: 0.0609 - val_loss: 0.0488\n",
      "Epoch 36/100\n",
      "467/467 [==============================] - 0s 319us/sample - loss: 0.0606 - val_loss: 0.0503\n",
      "Epoch 37/100\n",
      "467/467 [==============================] - 0s 420us/sample - loss: 0.0608 - val_loss: 0.0470\n",
      "Epoch 38/100\n",
      "467/467 [==============================] - 0s 355us/sample - loss: 0.0609 - val_loss: 0.0473\n",
      "Epoch 39/100\n",
      "467/467 [==============================] - 0s 291us/sample - loss: 0.0603 - val_loss: 0.0479\n",
      "Epoch 40/100\n",
      "467/467 [==============================] - 0s 325us/sample - loss: 0.0606 - val_loss: 0.0484\n",
      "Epoch 41/100\n",
      "467/467 [==============================] - 0s 332us/sample - loss: 0.0598 - val_loss: 0.0461\n",
      "Epoch 42/100\n",
      "467/467 [==============================] - 0s 334us/sample - loss: 0.0601 - val_loss: 0.0460\n",
      "Epoch 43/100\n",
      "467/467 [==============================] - 0s 319us/sample - loss: 0.0602 - val_loss: 0.0453\n",
      "Epoch 44/100\n",
      "467/467 [==============================] - 0s 351us/sample - loss: 0.0616 - val_loss: 0.0533\n",
      "Epoch 45/100\n",
      "467/467 [==============================] - 0s 343us/sample - loss: 0.0603 - val_loss: 0.0473\n",
      "Epoch 46/100\n",
      "467/467 [==============================] - 0s 328us/sample - loss: 0.0609 - val_loss: 0.0442\n",
      "Epoch 47/100\n",
      "467/467 [==============================] - 0s 383us/sample - loss: 0.0600 - val_loss: 0.0439\n",
      "Epoch 48/100\n",
      "467/467 [==============================] - 0s 339us/sample - loss: 0.0603 - val_loss: 0.0446\n",
      "Epoch 49/100\n",
      "467/467 [==============================] - 0s 323us/sample - loss: 0.0584 - val_loss: 0.0443\n",
      "Epoch 50/100\n",
      "467/467 [==============================] - 0s 321us/sample - loss: 0.0579 - val_loss: 0.0423\n",
      "Epoch 51/100\n",
      "467/467 [==============================] - 0s 321us/sample - loss: 0.0575 - val_loss: 0.0429\n",
      "Epoch 52/100\n",
      "467/467 [==============================] - 0s 343us/sample - loss: 0.0574 - val_loss: 0.0409\n",
      "Epoch 53/100\n",
      "467/467 [==============================] - 0s 345us/sample - loss: 0.0576 - val_loss: 0.0402\n",
      "Epoch 54/100\n",
      "467/467 [==============================] - 0s 304us/sample - loss: 0.0576 - val_loss: 0.0432\n",
      "Epoch 55/100\n",
      "467/467 [==============================] - 0s 335us/sample - loss: 0.0567 - val_loss: 0.0400\n",
      "Epoch 56/100\n",
      "467/467 [==============================] - 0s 315us/sample - loss: 0.0554 - val_loss: 0.0392\n",
      "Epoch 57/100\n",
      "467/467 [==============================] - 0s 332us/sample - loss: 0.0555 - val_loss: 0.0382\n",
      "Epoch 58/100\n",
      "467/467 [==============================] - 0s 337us/sample - loss: 0.0548 - val_loss: 0.0379\n",
      "Epoch 59/100\n",
      "467/467 [==============================] - 0s 347us/sample - loss: 0.0558 - val_loss: 0.0391\n",
      "Epoch 60/100\n",
      "467/467 [==============================] - 0s 328us/sample - loss: 0.0549 - val_loss: 0.0387\n",
      "Epoch 61/100\n",
      "467/467 [==============================] - 0s 366us/sample - loss: 0.0547 - val_loss: 0.0383\n",
      "Epoch 62/100\n",
      "467/467 [==============================] - 0s 330us/sample - loss: 0.0559 - val_loss: 0.0373\n",
      "Epoch 63/100\n",
      "467/467 [==============================] - 0s 335us/sample - loss: 0.0547 - val_loss: 0.0413\n",
      "Epoch 64/100\n",
      "467/467 [==============================] - 0s 321us/sample - loss: 0.0554 - val_loss: 0.0377\n",
      "Epoch 65/100\n",
      "467/467 [==============================] - 0s 298us/sample - loss: 0.0567 - val_loss: 0.0375\n",
      "Epoch 66/100\n",
      "467/467 [==============================] - 0s 325us/sample - loss: 0.0564 - val_loss: 0.0372\n",
      "Epoch 67/100\n",
      "467/467 [==============================] - 0s 319us/sample - loss: 0.0545 - val_loss: 0.0387\n",
      "Epoch 68/100\n",
      "467/467 [==============================] - 0s 349us/sample - loss: 0.0544 - val_loss: 0.0379\n",
      "Epoch 69/100\n",
      "467/467 [==============================] - 0s 349us/sample - loss: 0.0544 - val_loss: 0.0373\n",
      "Epoch 70/100\n",
      "467/467 [==============================] - 0s 320us/sample - loss: 0.0546 - val_loss: 0.0372\n",
      "Epoch 71/100\n",
      "467/467 [==============================] - 0s 375us/sample - loss: 0.0542 - val_loss: 0.0394\n",
      "Epoch 72/100\n",
      "467/467 [==============================] - 0s 338us/sample - loss: 0.0548 - val_loss: 0.0372\n",
      "Epoch 73/100\n",
      "467/467 [==============================] - 0s 328us/sample - loss: 0.0548 - val_loss: 0.0388\n",
      "Epoch 74/100\n",
      "467/467 [==============================] - 0s 335us/sample - loss: 0.0549 - val_loss: 0.0373\n",
      "Epoch 75/100\n",
      "467/467 [==============================] - 0s 332us/sample - loss: 0.0552 - val_loss: 0.0372\n",
      "Epoch 76/100\n",
      "467/467 [==============================] - 0s 298us/sample - loss: 0.0553 - val_loss: 0.0395\n",
      "Epoch 77/100\n",
      "467/467 [==============================] - 0s 338us/sample - loss: 0.0538 - val_loss: 0.0376\n",
      "Epoch 78/100\n",
      "467/467 [==============================] - 0s 331us/sample - loss: 0.0544 - val_loss: 0.0380\n",
      "Epoch 79/100\n",
      "467/467 [==============================] - 0s 304us/sample - loss: 0.0551 - val_loss: 0.0382\n",
      "Epoch 80/100\n",
      "467/467 [==============================] - 0s 325us/sample - loss: 0.0546 - val_loss: 0.0377\n",
      "Epoch 81/100\n",
      "467/467 [==============================] - 0s 313us/sample - loss: 0.0549 - val_loss: 0.0406\n",
      "Epoch 82/100\n",
      "467/467 [==============================] - 0s 334us/sample - loss: 0.0536 - val_loss: 0.0385\n",
      "Epoch 83/100\n",
      "467/467 [==============================] - 0s 330us/sample - loss: 0.0546 - val_loss: 0.0416\n",
      "Epoch 84/100\n",
      "467/467 [==============================] - 0s 343us/sample - loss: 0.0549 - val_loss: 0.0384\n",
      "Epoch 85/100\n",
      "467/467 [==============================] - 0s 323us/sample - loss: 0.0553 - val_loss: 0.0380\n",
      "Epoch 86/100\n",
      "467/467 [==============================] - 0s 325us/sample - loss: 0.0544 - val_loss: 0.0408\n",
      "Epoch 87/100\n",
      "467/467 [==============================] - 0s 304us/sample - loss: 0.0542 - val_loss: 0.0391\n",
      "Epoch 88/100\n",
      "467/467 [==============================] - 0s 337us/sample - loss: 0.0539 - val_loss: 0.0374\n",
      "Epoch 89/100\n",
      "467/467 [==============================] - 0s 308us/sample - loss: 0.0543 - val_loss: 0.0379\n",
      "Epoch 90/100\n",
      "467/467 [==============================] - 0s 336us/sample - loss: 0.0543 - val_loss: 0.0374\n",
      "Epoch 91/100\n",
      "467/467 [==============================] - 0s 306us/sample - loss: 0.0551 - val_loss: 0.0382\n",
      "Epoch 92/100\n",
      "467/467 [==============================] - 0s 302us/sample - loss: 0.0555 - val_loss: 0.0387\n",
      "Epoch 93/100\n",
      "467/467 [==============================] - 0s 368us/sample - loss: 0.0550 - val_loss: 0.0386\n",
      "Epoch 94/100\n",
      "467/467 [==============================] - 0s 336us/sample - loss: 0.0556 - val_loss: 0.0377\n",
      "Epoch 95/100\n",
      "467/467 [==============================] - 0s 347us/sample - loss: 0.0544 - val_loss: 0.0381\n",
      "Epoch 96/100\n",
      "467/467 [==============================] - 0s 325us/sample - loss: 0.0542 - val_loss: 0.0378\n",
      "Epoch 97/100\n",
      "467/467 [==============================] - 0s 309us/sample - loss: 0.0540 - val_loss: 0.0420\n",
      "Epoch 98/100\n",
      "467/467 [==============================] - 0s 330us/sample - loss: 0.0540 - val_loss: 0.0378\n",
      "Epoch 99/100\n",
      "467/467 [==============================] - 0s 335us/sample - loss: 0.0541 - val_loss: 0.0401\n",
      "Epoch 100/100\n",
      "467/467 [==============================] - 0s 343us/sample - loss: 0.0538 - val_loss: 0.0380\n"
     ]
    },
    {
     "data": {
      "text/plain": [
       "<tensorflow.python.keras.callbacks.History at 0x1deab37d408>"
      ]
     },
     "execution_count": 66,
     "metadata": {},
     "output_type": "execute_result"
    }
   ],
   "source": [
    "\n",
    "model.fit(X_train,Y_train,validation_data=(X_test,Y_test),epochs=100,batch_size=32,verbose=1)"
   ]
  },
  {
   "cell_type": "code",
   "execution_count": 67,
   "id": "e1314b72",
   "metadata": {},
   "outputs": [],
   "source": [
    "train_predict=model.predict(X_train)\n",
    "test_predict=model.predict(X_test)"
   ]
  },
  {
   "cell_type": "code",
   "execution_count": 68,
   "id": "7e4ce065",
   "metadata": {},
   "outputs": [],
   "source": [
    "train_predict=scaler.inverse_transform(train_predict)\n",
    "test_predict=scaler.inverse_transform(test_predict)"
   ]
  },
  {
   "cell_type": "code",
   "execution_count": 70,
   "id": "fb63f7fb",
   "metadata": {},
   "outputs": [
    {
     "data": {
      "text/plain": [
       "22070.673432192365"
      ]
     },
     "execution_count": 70,
     "metadata": {},
     "output_type": "execute_result"
    }
   ],
   "source": [
    "import math\n",
    "from sklearn.metrics import mean_squared_error\n",
    "math.sqrt(mean_squared_error(Y_train,train_predict))"
   ]
  },
  {
   "cell_type": "code",
   "execution_count": 72,
   "id": "d01d6229",
   "metadata": {},
   "outputs": [
    {
     "data": {
      "text/plain": [
       "24407.146808865935"
      ]
     },
     "execution_count": 72,
     "metadata": {},
     "output_type": "execute_result"
    }
   ],
   "source": [
    "math.sqrt(mean_squared_error(Y_test,test_predict))"
   ]
  },
  {
   "cell_type": "code",
   "execution_count": null,
   "id": "f1bf396e",
   "metadata": {},
   "outputs": [],
   "source": []
  },
  {
   "cell_type": "code",
   "execution_count": null,
   "id": "02809ef1",
   "metadata": {},
   "outputs": [],
   "source": []
  },
  {
   "cell_type": "code",
   "execution_count": null,
   "id": "8ea91122",
   "metadata": {},
   "outputs": [],
   "source": []
  },
  {
   "cell_type": "code",
   "execution_count": null,
   "id": "666c4fd1",
   "metadata": {},
   "outputs": [],
   "source": []
  },
  {
   "cell_type": "code",
   "execution_count": 84,
   "id": "8ff1e28f",
   "metadata": {},
   "outputs": [],
   "source": [
    "inp=test[-9:].reshape(1,-1)"
   ]
  },
  {
   "cell_type": "code",
   "execution_count": 85,
   "id": "2dd112d3",
   "metadata": {},
   "outputs": [
    {
     "data": {
      "text/plain": [
       "array([[0.35330896, 0.11758477, 0.06580108, 0.12219841, 0.33170301,\n",
       "        0.67780159, 0.38363797, 0.14672885, 0.20060507]])"
      ]
     },
     "execution_count": 85,
     "metadata": {},
     "output_type": "execute_result"
    }
   ],
   "source": [
    "inp"
   ]
  },
  {
   "cell_type": "code",
   "execution_count": 86,
   "id": "757b68fb",
   "metadata": {},
   "outputs": [
    {
     "data": {
      "text/plain": [
       "(1, 9)"
      ]
     },
     "execution_count": 86,
     "metadata": {},
     "output_type": "execute_result"
    }
   ],
   "source": [
    "inp.shape"
   ]
  },
  {
   "cell_type": "code",
   "execution_count": 87,
   "id": "b61d9ef0",
   "metadata": {},
   "outputs": [
    {
     "data": {
      "text/plain": [
       "array([0.35330896, 0.11758477, 0.06580108, 0.12219841, 0.33170301,\n",
       "       0.67780159, 0.38363797, 0.14672885, 0.20060507])"
      ]
     },
     "execution_count": 87,
     "metadata": {},
     "output_type": "execute_result"
    }
   ],
   "source": [
    "inp[0]"
   ]
  },
  {
   "cell_type": "code",
   "execution_count": 88,
   "id": "37cf35a6",
   "metadata": {},
   "outputs": [
    {
     "data": {
      "text/plain": [
       "[array([0.35330896, 0.11758477, 0.06580108, 0.12219841, 0.33170301,\n",
       "        0.67780159, 0.38363797, 0.14672885, 0.20060507])]"
      ]
     },
     "execution_count": 88,
     "metadata": {},
     "output_type": "execute_result"
    }
   ],
   "source": [
    "temp=list(inp)\n",
    "temp"
   ]
  },
  {
   "cell_type": "code",
   "execution_count": 89,
   "id": "6097369d",
   "metadata": {},
   "outputs": [],
   "source": [
    "temp=temp[0].tolist()"
   ]
  },
  {
   "cell_type": "code",
   "execution_count": 90,
   "id": "84dd4e52",
   "metadata": {},
   "outputs": [
    {
     "data": {
      "text/plain": [
       "[0.3533089625614521,\n",
       " 0.1175847724694315,\n",
       " 0.06580108407916299,\n",
       " 0.1221984116979705,\n",
       " 0.33170301273162733,\n",
       " 0.6778015883020295,\n",
       " 0.38363796798184796,\n",
       " 0.14672885415353587,\n",
       " 0.2006050674398084]"
      ]
     },
     "execution_count": 90,
     "metadata": {},
     "output_type": "execute_result"
    }
   ],
   "source": [
    "temp"
   ]
  },
  {
   "cell_type": "code",
   "execution_count": 95,
   "id": "760ae840",
   "metadata": {},
   "outputs": [],
   "source": [
    "t=np.array(temp)"
   ]
  },
  {
   "cell_type": "code",
   "execution_count": 97,
   "id": "e87220f3",
   "metadata": {},
   "outputs": [
    {
     "data": {
      "text/plain": [
       "(9,)"
      ]
     },
     "execution_count": 97,
     "metadata": {},
     "output_type": "execute_result"
    }
   ],
   "source": [
    "t.shape"
   ]
  },
  {
   "cell_type": "code",
   "execution_count": 99,
   "id": "4e80fed4",
   "metadata": {},
   "outputs": [],
   "source": [
    "t=t.reshape(-1,9)"
   ]
  },
  {
   "cell_type": "code",
   "execution_count": 100,
   "id": "a6eeda4f",
   "metadata": {},
   "outputs": [
    {
     "data": {
      "text/plain": [
       "(1, 9)"
      ]
     },
     "execution_count": 100,
     "metadata": {},
     "output_type": "execute_result"
    }
   ],
   "source": [
    "t.shape"
   ]
  },
  {
   "cell_type": "code",
   "execution_count": 103,
   "id": "ff1ab582",
   "metadata": {},
   "outputs": [],
   "source": [
    "t=t.reshape(1,9,1)"
   ]
  },
  {
   "cell_type": "code",
   "execution_count": 104,
   "id": "80bec597",
   "metadata": {},
   "outputs": [
    {
     "data": {
      "text/plain": [
       "(1, 9, 1)"
      ]
     },
     "execution_count": 104,
     "metadata": {},
     "output_type": "execute_result"
    }
   ],
   "source": [
    "t.shape"
   ]
  },
  {
   "cell_type": "code",
   "execution_count": 113,
   "id": "970a7b47",
   "metadata": {},
   "outputs": [],
   "source": [
    "pr=model.predict(t,verbose=0)"
   ]
  },
  {
   "cell_type": "code",
   "execution_count": 116,
   "id": "348d7bd8",
   "metadata": {},
   "outputs": [
    {
     "data": {
      "text/plain": [
       "0.31591207"
      ]
     },
     "execution_count": 116,
     "metadata": {},
     "output_type": "execute_result"
    }
   ],
   "source": [
    "pr[0][0]"
   ]
  },
  {
   "cell_type": "code",
   "execution_count": 121,
   "id": "8e0439b6",
   "metadata": {},
   "outputs": [],
   "source": [
    "temp=temp[0:9]"
   ]
  },
  {
   "cell_type": "code",
   "execution_count": 122,
   "id": "56d3c2fa",
   "metadata": {},
   "outputs": [],
   "source": [
    "temp.append(pr[0][0])"
   ]
  },
  {
   "cell_type": "code",
   "execution_count": 123,
   "id": "7eb0e76f",
   "metadata": {},
   "outputs": [
    {
     "data": {
      "text/plain": [
       "[0.3533089625614521,\n",
       " 0.1175847724694315,\n",
       " 0.06580108407916299,\n",
       " 0.1221984116979705,\n",
       " 0.33170301273162733,\n",
       " 0.6778015883020295,\n",
       " 0.38363796798184796,\n",
       " 0.14672885415353587,\n",
       " 0.2006050674398084,\n",
       " 0.31591207]"
      ]
     },
     "execution_count": 123,
     "metadata": {},
     "output_type": "execute_result"
    }
   ],
   "source": [
    "temp"
   ]
  },
  {
   "cell_type": "code",
   "execution_count": 127,
   "id": "71c3acb8",
   "metadata": {},
   "outputs": [],
   "source": [
    "n=np.array(temp)"
   ]
  },
  {
   "cell_type": "code",
   "execution_count": 131,
   "id": "226431bc",
   "metadata": {},
   "outputs": [],
   "source": [
    "n=n.reshape(-1,1)"
   ]
  },
  {
   "cell_type": "code",
   "execution_count": 132,
   "id": "464f3091",
   "metadata": {},
   "outputs": [
    {
     "data": {
      "text/plain": [
       "(10, 1)"
      ]
     },
     "execution_count": 132,
     "metadata": {},
     "output_type": "execute_result"
    }
   ],
   "source": [
    "n.shape"
   ]
  },
  {
   "cell_type": "code",
   "execution_count": 133,
   "id": "45c606d2",
   "metadata": {},
   "outputs": [],
   "source": [
    "p=scaler.inverse_transform(n)"
   ]
  },
  {
   "cell_type": "code",
   "execution_count": 134,
   "id": "9a50ae84",
   "metadata": {},
   "outputs": [
    {
     "data": {
      "text/plain": [
       "array([[14594.        ],\n",
       "       [ 5244.        ],\n",
       "       [ 3190.        ],\n",
       "       [ 5427.        ],\n",
       "       [13737.        ],\n",
       "       [27465.        ],\n",
       "       [15797.        ],\n",
       "       [ 6400.        ],\n",
       "       [ 8537.        ],\n",
       "       [13110.65217286]])"
      ]
     },
     "execution_count": 134,
     "metadata": {},
     "output_type": "execute_result"
    }
   ],
   "source": [
    "p"
   ]
  },
  {
   "cell_type": "code",
   "execution_count": 144,
   "id": "e62f2a38",
   "metadata": {},
   "outputs": [],
   "source": [
    "day_new=np.arange(1,9)\n",
    "day_pred=np.arange(9,10)"
   ]
  },
  {
   "cell_type": "code",
   "execution_count": 149,
   "id": "eb172c0c",
   "metadata": {},
   "outputs": [
    {
     "data": {
      "text/plain": [
       "[<matplotlib.lines.Line2D at 0x1dfaedfc348>]"
      ]
     },
     "execution_count": 149,
     "metadata": {},
     "output_type": "execute_result"
    },
    {
     "data": {
      "image/png": "[encoded data removed]",
      "text/plain": [
       "<Figure size 432x288 with 1 Axes>"
      ]
     },
     "metadata": {
      "needs_background": "light"
     },
     "output_type": "display_data"
    }
   ],
   "source": [
    "plt.plot(p[0:9])\n",
    "plt.plot(p[9])"
   ]
  },
  {
   "cell_type": "code",
   "execution_count": 147,
   "id": "b6ec9235",
   "metadata": {},
   "outputs": [
    {
     "data": {
      "text/plain": [
       "array([[14594.],\n",
       "       [ 5244.],\n",
       "       [ 3190.],\n",
       "       [ 5427.],\n",
       "       [13737.],\n",
       "       [27465.],\n",
       "       [15797.],\n",
       "       [ 6400.],\n",
       "       [ 8537.]])"
      ]
     },
     "execution_count": 147,
     "metadata": {},
     "output_type": "execute_result"
    }
   ],
   "source": []
  },
  {
   "cell_type": "code",
   "execution_count": null,
   "id": "97e6c334",
   "metadata": {},
   "outputs": [],
   "source": []
  }
 ],
 "metadata": {
  "kernelspec": {
   "display_name": "Python 3",
   "language": "python",
   "name": "python3"
  },
  "language_info": {
   "codemirror_mode": {
    "name": "ipython",
    "version": 3
   },
   "file_extension": ".py",
   "mimetype": "text/x-python",
   "name": "python",
   "nbconvert_exporter": "python",
   "pygments_lexer": "ipython3",
   "version": "3.7.10"
  }
 },
 "nbformat": 4,
 "nbformat_minor": 5
}
